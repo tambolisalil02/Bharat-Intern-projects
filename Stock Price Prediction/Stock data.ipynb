{
 "cells": [
  {
   "cell_type": "markdown",
   "id": "07af77a0",
   "metadata": {},
   "source": [
    "# DATA SCIENCE INTERN @BHARAT INTERN\n"
   ]
  },
  {
   "cell_type": "markdown",
   "id": "0ff0bcbe",
   "metadata": {},
   "source": [
    "# Salil Tamboli "
   ]
  },
  {
   "cell_type": "markdown",
   "id": "a28b58b8",
   "metadata": {},
   "source": [
    "# Task-1 Stock Price Prediction"
   ]
  },
  {
   "cell_type": "markdown",
   "id": "0226bf5c",
   "metadata": {},
   "source": [
    "# Problem Statement : Predicting Stock Price of APPL using LSTM model"
   ]
  },
  {
   "cell_type": "markdown",
   "id": "fbc270bb",
   "metadata": {},
   "source": [
    "# About Dataset\n",
    "## APPLE Stock Prediction\n",
    "### This dataset contains historical data of Apple's stock prices and related attributes. It consists of 7 columns and a smaller subset of 10774 rows. Each column represents a specific attribute, and each row contains the corresponding values for that attribute."
   ]
  },
  {
   "cell_type": "markdown",
   "id": "e27fbe26",
   "metadata": {},
   "source": [
    "## The columns in the dataset are as follows:\n",
    "### 1. Date: The year and date of the stock data.\n",
    "### 2. Open: The opening value of Apple's stock on the given day.\n",
    "### 3. High: The highest value reached by Apple's stock on the given day.\n",
    "### 4. Low: The lowest value reached by Apple's stock on the given day.\n",
    "### 5. Close: The closing price of Apple's stock on a particular day.\n",
    "### 6. adjClose: The adjusted closing price of Apple's stock, considering factors such as dividends and stock splits.\n",
    "### 7. Volume: The trading volume of Apple's stock on the given day, i.e., the number of shares traded."
   ]
  },
  {
   "cell_type": "markdown",
   "id": "f27f141a",
   "metadata": {},
   "source": [
    "# Required Libraries"
   ]
  },
  {
   "cell_type": "code",
   "execution_count": 36,
   "id": "53873650",
   "metadata": {},
   "outputs": [],
   "source": [
    "import pandas as pd\n",
    "import numpy as np\n",
    "import matplotlib.pyplot as plt\n",
    "from sklearn.preprocessing import MinMaxScaler\n",
    "import torch\n",
    "import torch.nn as nn"
   ]
  },
  {
   "cell_type": "markdown",
   "id": "d43d855e",
   "metadata": {},
   "source": [
    "# Gathering Insights"
   ]
  },
  {
   "cell_type": "code",
   "execution_count": 37,
   "id": "f8d2ccce",
   "metadata": {},
   "outputs": [
    {
     "name": "stdout",
     "output_type": "stream",
     "text": [
      "         Date      Open      High       Low     Close  Adj Close     Volume\n",
      "0  1980-12-12  0.128348  0.128906  0.128348  0.128348   0.099450  469033600\n",
      "1  1980-12-15  0.122210  0.122210  0.121652  0.121652   0.094261  175884800\n",
      "2  1980-12-16  0.113281  0.113281  0.112723  0.112723   0.087343  105728000\n",
      "3  1980-12-17  0.115513  0.116071  0.115513  0.115513   0.089504   86441600\n",
      "4  1980-12-18  0.118862  0.119420  0.118862  0.118862   0.092099   73449600\n"
     ]
    }
   ],
   "source": [
    "df = pd.read_csv(\"E:\\Bharat Intern\\Stock Price Prediction\\AAPL.csv\")\n",
    "print(df.head())"
   ]
  },
  {
   "cell_type": "markdown",
   "id": "8256d5f0",
   "metadata": {},
   "source": [
    "# Close price data"
   ]
  },
  {
   "cell_type": "code",
   "execution_count": 38,
   "id": "6307d232",
   "metadata": {},
   "outputs": [
    {
     "data": {
      "text/plain": [
       "0          0.128348\n",
       "1          0.121652\n",
       "2          0.112723\n",
       "3          0.115513\n",
       "4          0.118862\n",
       "            ...    \n",
       "10768    187.649994\n",
       "10769    187.869995\n",
       "10770    189.460007\n",
       "10771    189.699997\n",
       "10772    182.910004\n",
       "Name: Close, Length: 10773, dtype: float64"
      ]
     },
     "execution_count": 38,
     "metadata": {},
     "output_type": "execute_result"
    }
   ],
   "source": [
    "closed_prices = df[\"Close\"] #get only Close values\n",
    "closed_prices"
   ]
  },
  {
   "cell_type": "markdown",
   "id": "be36fb27",
   "metadata": {},
   "source": [
    "# Data Pre-Processing"
   ]
  },
  {
   "cell_type": "code",
   "execution_count": 41,
   "id": "6331225c",
   "metadata": {},
   "outputs": [],
   "source": [
    "seq_len=15\n",
    "mm=MinMaxScaler()\n",
    "scaled_price = mm.fit_transform(np.array(closed_prices)[...,None]).squeeze() # add a dimension to list and again squeeze back"
   ]
  },
  {
   "cell_type": "code",
   "execution_count": 42,
   "id": "6f1a8ff0",
   "metadata": {},
   "outputs": [
    {
     "name": "stdout",
     "output_type": "stream",
     "text": [
      "[0.00040347 0.00036937 0.00032391 0.00033811 0.00035517 0.0003921\n",
      " 0.00042335 0.00045177 0.0004887  0.0005569  0.00056826 0.00054837\n",
      " 0.00052564 0.00053417 0.00051712]\n",
      "0.00048302225107024716\n"
     ]
    }
   ],
   "source": [
    "X=[]  #data\n",
    "Y=[]  #target\n",
    "\n",
    "for i in range(len(scaled_price)-seq_len):\n",
    "        X.append(scaled_price[i:i+seq_len])\n",
    "        Y.append(scaled_price[i+seq_len])\n",
    "print(X[0])\n",
    "print(Y[0])"
   ]
  },
  {
   "cell_type": "code",
   "execution_count": 43,
   "id": "493ac744",
   "metadata": {},
   "outputs": [
    {
     "name": "stdout",
     "output_type": "stream",
     "text": [
      "torch.Size([8606, 15, 1]) torch.Size([2152, 15, 1])\n",
      "torch.Size([8606, 1]) torch.Size([2152, 1])\n"
     ]
    }
   ],
   "source": [
    "X=np.array(X)[...,None]\n",
    "Y=np.array(Y)[...,None]\n",
    "\n",
    "train_X = torch.from_numpy(X[:int(0.8 * X.shape[0])]).float()\n",
    "train_Y= torch.from_numpy(Y[:int(0.8 * X.shape[0])]).float()\n",
    "\n",
    "test_X = torch.from_numpy(X[int(0.8 * X.shape[0]):]).float()\n",
    "test_Y = torch.from_numpy(Y[int(0.8 * X.shape[0]):]).float()\n",
    "\n",
    "print(train_X.shape , test_X.shape)\n",
    "print(train_Y.shape , test_Y.shape)"
   ]
  },
  {
   "cell_type": "markdown",
   "id": "27d13541",
   "metadata": {},
   "source": [
    "# Building LSTM Model"
   ]
  },
  {
   "cell_type": "code",
   "execution_count": 44,
   "id": "4f355313",
   "metadata": {
    "scrolled": true
   },
   "outputs": [],
   "source": [
    "class Model(nn.Module):\n",
    "    def __init__(self , input_size , hidden_size):\n",
    "        super().__init__()\n",
    "        self.lstm = nn.LSTM(input_size , hidden_size , batch_first = True)\n",
    "        self.fc = nn.Linear(hidden_size , 1)\n",
    "    def forward(self , x):\n",
    "        output , (hidden , cell) = self.lstm(x)\n",
    "        return self.fc(hidden[-1 , :])\n",
    "model = Model(1 , 57)\n",
    "\n",
    "optimizer = torch.optim.Adam(model.parameters() , lr = 0.001)\n",
    "loss_fn = nn.MSELoss()\n",
    "\n"
   ]
  },
  {
   "cell_type": "markdown",
   "id": "56971f3e",
   "metadata": {},
   "source": [
    "# Traning model "
   ]
  },
  {
   "cell_type": "code",
   "execution_count": 45,
   "id": "9121518d",
   "metadata": {},
   "outputs": [
    {
     "name": "stdout",
     "output_type": "stream",
     "text": [
      "10 epoch loss 0.0010151656\n",
      "20 epoch loss 0.0009341321\n",
      "30 epoch loss 0.00086363504\n",
      "40 epoch loss 0.0007937202\n",
      "50 epoch loss 0.0007138054\n",
      "60 epoch loss 0.00060292037\n",
      "70 epoch loss 0.00040370415\n",
      "80 epoch loss 4.46838e-05\n",
      "90 epoch loss 2.9528637e-05\n"
     ]
    }
   ],
   "source": [
    "\n",
    "num_epochs = 100\n",
    "\n",
    "for epoch in range(num_epochs):\n",
    "    output = model(train_X)\n",
    "    loss = loss_fn(output , train_Y)\n",
    "\n",
    "    optimizer.zero_grad()\n",
    "    loss.backward()\n",
    "    optimizer.step()\n",
    "\n",
    "    if epoch % 10 == 0 and epoch != 0:\n",
    "        print(epoch , \"epoch loss\" , loss.detach().numpy())\n",
    "\n",
    "model.eval()\n",
    "with torch.no_grad():\n",
    "    output = model(test_X)\n",
    "\n",
    "pred = mm.inverse_transform(output.numpy())\n",
    "real = mm.inverse_transform(test_Y.numpy())\n"
   ]
  },
  {
   "cell_type": "markdown",
   "id": "16edc89d",
   "metadata": {},
   "source": [
    "# Visualization of predicted data"
   ]
  },
  {
   "cell_type": "code",
   "execution_count": 46,
   "id": "00feb340",
   "metadata": {},
   "outputs": [
    {
     "data": {
      "image/png": "[encoded data removed]",
      "text/plain": [
       "<Figure size 640x480 with 1 Axes>"
      ]
     },
     "metadata": {},
     "output_type": "display_data"
    }
   ],
   "source": [
    "plt.plot(pred.squeeze() , color = \"red\" , label = \"predicted\")\n",
    "plt.plot(real.squeeze() , color = \"green\" , label = \"real\")\n",
    "plt.show()"
   ]
  },
  {
   "cell_type": "markdown",
   "id": "da124210",
   "metadata": {},
   "source": [
    "# Thank You !"
   ]
  },
  {
   "cell_type": "code",
   "execution_count": null,
   "id": "44d9f08b",
   "metadata": {},
   "outputs": [],
   "source": []
  }
 ],
 "metadata": {
  "kernelspec": {
   "display_name": "Python 3 (ipykernel)",
   "language": "python",
   "name": "python3"
  },
  "language_info": {
   "codemirror_mode": {
    "name": "ipython",
    "version": 3
   },
   "file_extension": ".py",
   "mimetype": "text/x-python",
   "name": "python",
   "nbconvert_exporter": "python",
   "pygments_lexer": "ipython3",
   "version": "3.11.4"
  }
 },
 "nbformat": 4,
 "nbformat_minor": 5
}
